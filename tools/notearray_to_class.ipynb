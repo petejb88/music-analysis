{
 "cells": [
  {
   "cell_type": "code",
   "execution_count": 63,
   "metadata": {},
   "outputs": [],
   "source": [
    "import pandas as pd\n",
    "import torch\n",
    "import torch.nn as nn\n",
    "\n",
    "from io import StringIO"
   ]
  },
  {
   "cell_type": "code",
   "execution_count": 64,
   "metadata": {},
   "outputs": [],
   "source": [
    "notearray_path = \"../jrp.txt\""
   ]
  },
  {
   "cell_type": "code",
   "execution_count": 8,
   "metadata": {},
   "outputs": [],
   "source": [
    "with open(notearray_path, \"r\") as in_text:\n",
    "    lines = in_text.readlines()"
   ]
  },
  {
   "cell_type": "code",
   "execution_count": 9,
   "metadata": {},
   "outputs": [
    {
     "name": "stdout",
     "output_type": "stream",
     "text": [
      "Line 0 % !!!COM:\tAnonymous\n",
      "\n",
      "Line 1 % !!!OTL:\tDe sartor nui sian maestri\n",
      "\n",
      "Line 2 % !!!AGN:\tSong; Carnival song\n",
      "\n",
      "Line 3 % !!!SCT:\tAno3237\n",
      "\n",
      "Line 4 % !!!SCA:\tAno3237\n",
      "\n",
      "Line 5 % !!!SMS:\tCanto dei sartori (Perugia G.20)\n",
      "\n",
      "Line 6 % !!!folio:\t\n",
      "\n",
      "Line 7 % !!!voices:\t4\n",
      "\n",
      "Line 8 %%idx\t%%line\t%%bar\t%%mdur\t%%bdur\t%%beat\t%%abs\t%%b40\t%%attk\t%%last\t%%next\t%%b40\t%%attk\t%%last\t%%next\t%%b40\t%%attk\t%%last\t%%next\t%%b40\t%%attk\t%%last\t%%next\n",
      "\n",
      "Line 9 0\t2000\t3000\t3100\t3200\t4000\t5000\t1040\t7100\t7200\t7300\t1040\t7100\t7200\t7300\t1040\t7100\t7200\t7300\t1040\t7100\t7200\t7300\n",
      "\n"
     ]
    }
   ],
   "source": [
    "for i in range(10):\n",
    "    print(\"Line\",i,lines[i])"
   ]
  },
  {
   "cell_type": "code",
   "execution_count": 123,
   "metadata": {},
   "outputs": [],
   "source": [
    "class NoteArray(torch.utils.data.Dataset):\n",
    "    '''\n",
    "    All the info about the note array\n",
    "    '''\n",
    "    \n",
    "    def __init__(self,notearray_path):\n",
    "        \"\"\"\n",
    "        initialize: get all the metadata and stuff\n",
    "        \"\"\"\n",
    "        \n",
    "        with open(notearray_path, \"r\") as notearray:\n",
    "            \"\"\"\n",
    "            self.lines = whole notearray, line-by-line\n",
    "            self.notelines = the music part of the notearray\n",
    "            self.notelines_totals = the totals of each column\n",
    "            self.df, self.df_totals = df-ization of the above lines\n",
    "            self.composer = composer\n",
    "            self.title = title\n",
    "            \"\"\"\n",
    "            \n",
    "            self.lines = notearray.readlines()\n",
    "            self.meta_lines = {\n",
    "                ii:line for ii,line in enumerate(self.lines) if line.count('!') != 0\n",
    "            }\n",
    "            start_line_num = min(set(range(len(self.lines)))-set(list(self.meta_lines.keys())))\n",
    "            end_line_num = max(set(range(len(self.lines))) - set(list(self.meta_lines.keys())))\n",
    "            notelines =  self.lines[start_line_num : end_line_num+1]\n",
    "            start_line = notelines[0]\n",
    "            notelines[0] = start_line.replace('%','')\n",
    "            \n",
    "            # totals\n",
    "            notelines_totals = notelines[:2]            \n",
    "            \n",
    "            # just the music itself\n",
    "            del notelines[1]\n",
    "            self.notelines = notelines\n",
    "            \n",
    "            cleaned_notearray = StringIO('\\n'.join(self.notelines))\n",
    "            cleaned_totals = StringIO('\\n'.join(notelines_totals))\n",
    "            \n",
    "            self.df = pd.read_csv(cleaned_notearray, delimiter='\\t')\n",
    "            self.df_totals = pd.read_csv(cleaned_totals, delimiter='\\t')\n",
    "            \n",
    "            # metadata\n",
    "            meta_dic = {}\n",
    "            for line in list(self.meta_lines.values()):\n",
    "                try:\n",
    "                    a,b = re.split(r'\\t+', line.rstrip('\\n'))\n",
    "                    meta_dic[a] = b\n",
    "                except:\n",
    "                    continue\n",
    "                \n",
    "            try:\n",
    "                self.num_voices = meta_dic['% !!!voices:']\n",
    "            except:\n",
    "                self.num_voices = meta_dic['% !!!voices-ORP:']\n",
    "                \n",
    "            self.composer = meta_dic['% !!!COM:']\n",
    "            self.title = meta_dic['% !!!OTL:']\n",
    "            try:\n",
    "                self.genre = meta_dic['% !!!AGN:']\n",
    "            except: \n",
    "                self.genre = None\n",
    "            "
   ]
  },
  {
   "cell_type": "code",
   "execution_count": 124,
   "metadata": {},
   "outputs": [],
   "source": [
    "note_array = NoteArray(notearray_path)"
   ]
  },
  {
   "cell_type": "code",
   "execution_count": 129,
   "metadata": {},
   "outputs": [
    {
     "data": {
      "text/html": [
       "<div>\n",
       "<style scoped>\n",
       "    .dataframe tbody tr th:only-of-type {\n",
       "        vertical-align: middle;\n",
       "    }\n",
       "\n",
       "    .dataframe tbody tr th {\n",
       "        vertical-align: top;\n",
       "    }\n",
       "\n",
       "    .dataframe thead th {\n",
       "        text-align: right;\n",
       "    }\n",
       "</style>\n",
       "<table border=\"1\" class=\"dataframe\">\n",
       "  <thead>\n",
       "    <tr style=\"text-align: right;\">\n",
       "      <th></th>\n",
       "      <th>idx</th>\n",
       "      <th>line</th>\n",
       "      <th>bar</th>\n",
       "      <th>mdur</th>\n",
       "      <th>bdur</th>\n",
       "      <th>beat</th>\n",
       "      <th>abs</th>\n",
       "      <th>b40</th>\n",
       "      <th>attk</th>\n",
       "      <th>last</th>\n",
       "      <th>...</th>\n",
       "      <th>last.1</th>\n",
       "      <th>next.1</th>\n",
       "      <th>b40.2</th>\n",
       "      <th>attk.2</th>\n",
       "      <th>last.2</th>\n",
       "      <th>next.2</th>\n",
       "      <th>b40.3</th>\n",
       "      <th>attk.3</th>\n",
       "      <th>last.3</th>\n",
       "      <th>next.3</th>\n",
       "    </tr>\n",
       "  </thead>\n",
       "  <tbody>\n",
       "    <tr>\n",
       "      <th>0</th>\n",
       "      <td>0</td>\n",
       "      <td>2000</td>\n",
       "      <td>3000</td>\n",
       "      <td>3100</td>\n",
       "      <td>3200</td>\n",
       "      <td>4000</td>\n",
       "      <td>5000</td>\n",
       "      <td>1040</td>\n",
       "      <td>7100</td>\n",
       "      <td>7200</td>\n",
       "      <td>...</td>\n",
       "      <td>7200</td>\n",
       "      <td>7300</td>\n",
       "      <td>1040</td>\n",
       "      <td>7100</td>\n",
       "      <td>7200</td>\n",
       "      <td>7300</td>\n",
       "      <td>1040</td>\n",
       "      <td>7100</td>\n",
       "      <td>7200</td>\n",
       "      <td>7300</td>\n",
       "    </tr>\n",
       "  </tbody>\n",
       "</table>\n",
       "<p>1 rows × 23 columns</p>\n",
       "</div>"
      ],
      "text/plain": [
       "   idx  line   bar  mdur  bdur  beat   abs   b40  attk  last  ...  last.1  \\\n",
       "0    0  2000  3000  3100  3200  4000  5000  1040  7100  7200  ...    7200   \n",
       "\n",
       "   next.1  b40.2  attk.2  last.2  next.2  b40.3  attk.3  last.3  next.3  \n",
       "0    7300   1040    7100    7200    7300   1040    7100    7200    7300  \n",
       "\n",
       "[1 rows x 23 columns]"
      ]
     },
     "execution_count": 129,
     "metadata": {},
     "output_type": "execute_result"
    }
   ],
   "source": [
    "note_array.df_totals"
   ]
  },
  {
   "cell_type": "code",
   "execution_count": null,
   "metadata": {},
   "outputs": [],
   "source": []
  }
 ],
 "metadata": {
  "kernelspec": {
   "display_name": "Python 3",
   "language": "python",
   "name": "python3"
  },
  "language_info": {
   "codemirror_mode": {
    "name": "ipython",
    "version": 3
   },
   "file_extension": ".py",
   "mimetype": "text/x-python",
   "name": "python",
   "nbconvert_exporter": "python",
   "pygments_lexer": "ipython3",
   "version": "3.6.9"
  }
 },
 "nbformat": 4,
 "nbformat_minor": 4
}
