{
 "cells": [
  {
   "cell_type": "code",
   "execution_count": 61,
   "metadata": {},
   "outputs": [],
   "source": [
    "import pandas as pd\n",
    "from io import StringIO"
   ]
  },
  {
   "cell_type": "code",
   "execution_count": 80,
   "metadata": {},
   "outputs": [],
   "source": [
    "with open(\"../jrp.txt\", \"r\") as in_text:\n",
    "    lines = in_text.readlines()"
   ]
  },
  {
   "cell_type": "code",
   "execution_count": 63,
   "metadata": {},
   "outputs": [
    {
     "name": "stdout",
     "output_type": "stream",
     "text": [
      "Line 0 % !!!COM:\tAnonymous\n",
      "\n",
      "Line 1 % !!!OTL:\tDe sartor nui sian maestri\n",
      "\n",
      "Line 2 % !!!AGN:\tSong; Carnival song\n",
      "\n",
      "Line 3 % !!!SCT:\tAno3237\n",
      "\n",
      "Line 4 % !!!SCA:\tAno3237\n",
      "\n",
      "Line 5 % !!!SMS:\tCanto dei sartori (Perugia G.20)\n",
      "\n",
      "Line 6 % !!!folio:\t\n",
      "\n",
      "Line 7 % !!!voices:\t4\n",
      "\n",
      "Line 8 %%idx\t%%line\t%%bar\t%%mdur\t%%bdur\t%%beat\t%%abs\t%%b40\t%%attk\t%%last\t%%next\t%%b40\t%%attk\t%%last\t%%next\t%%b40\t%%attk\t%%last\t%%next\t%%b40\t%%attk\t%%last\t%%next\n",
      "\n",
      "Line 9 0\t2000\t3000\t3100\t3200\t4000\t5000\t1040\t7100\t7200\t7300\t1040\t7100\t7200\t7300\t1040\t7100\t7200\t7300\t1040\t7100\t7200\t7300\n",
      "\n"
     ]
    }
   ],
   "source": [
    "for i in range(10):\n",
    "    print(\"Line\",i,lines[i])"
   ]
  },
  {
   "cell_type": "code",
   "execution_count": 75,
   "metadata": {},
   "outputs": [],
   "source": [
    "\n",
    "def clean_notearray(notearray_path):\n",
    "    '''\n",
    "    args:\n",
    "         notearray_path: location of notearray.txt\n",
    "    output:\n",
    "         lines: a list of lines to be read by pandas as a csv\n",
    "    '''\n",
    "    \n",
    "    with open(notearray_path, \"r\") as notearray:\n",
    "        lines = notearray.readlines()\n",
    "        \n",
    "        # find start line\n",
    "        header_lines = [ii for ii,line in enumerate(lines) if line.count('!') != 0]\n",
    "        start_line_num = min(set(range(len(lines)))-set(header_lines))\n",
    "        start_line = lines[start_line_num]\n",
    "        end_line_num = max(set(range(len(lines))) - set(header_lines))\n",
    "\n",
    "        # clean file\n",
    "        lines = lines[start_line_num : end_line_num+1]\n",
    "    \n",
    "        # clean start_line\n",
    "        start_line = start_line.replace('%','')\n",
    "        lines[0] = start_line\n",
    "        del lines[1]\n",
    "        \n",
    "        # act as newfile\n",
    "        cleaned_notearray = StringIO('\\n'.join(lines))\n",
    "        return cleaned_notearray"
   ]
  },
  {
   "cell_type": "code",
   "execution_count": 79,
   "metadata": {},
   "outputs": [
    {
     "data": {
      "text/plain": [
       "Index(['idx', 'line', 'bar', 'mdur', 'bdur', 'beat', 'abs', 'b40', 'attk',\n",
       "       'last', 'next', 'b40.1', 'attk.1', 'last.1', 'next.1', 'b40.2',\n",
       "       'attk.2', 'last.2', 'next.2', 'b40.3', 'attk.3', 'last.3', 'next.3'],\n",
       "      dtype='object')"
      ]
     },
     "execution_count": 79,
     "metadata": {},
     "output_type": "execute_result"
    }
   ],
   "source": [
    "notearray_clean = clean_notearray('jrp.txt')\n",
    "df = pd.read_csv(notearray_clean, delimiter='\\t')\n",
    "df.columns"
   ]
  }
 ],
 "metadata": {
  "kernelspec": {
   "display_name": "Python 3",
   "language": "python",
   "name": "python3"
  },
  "language_info": {
   "codemirror_mode": {
    "name": "ipython",
    "version": 3
   },
   "file_extension": ".py",
   "mimetype": "text/x-python",
   "name": "python",
   "nbconvert_exporter": "python",
   "pygments_lexer": "ipython3",
   "version": "3.6.9"
  }
 },
 "nbformat": 4,
 "nbformat_minor": 4
}
