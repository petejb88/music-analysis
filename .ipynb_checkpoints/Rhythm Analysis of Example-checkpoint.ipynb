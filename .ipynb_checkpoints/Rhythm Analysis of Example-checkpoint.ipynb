{
 "cells": [
  {
   "cell_type": "code",
   "execution_count": 1,
   "metadata": {},
   "outputs": [],
   "source": [
    "import pandas as pd\n",
    "from collections import Counter\n"
   ]
  },
  {
   "cell_type": "code",
   "execution_count": 2,
   "metadata": {},
   "outputs": [
    {
     "data": {
      "text/html": [
       "<div>\n",
       "<style scoped>\n",
       "    .dataframe tbody tr th:only-of-type {\n",
       "        vertical-align: middle;\n",
       "    }\n",
       "\n",
       "    .dataframe tbody tr th {\n",
       "        vertical-align: top;\n",
       "    }\n",
       "\n",
       "    .dataframe thead th {\n",
       "        text-align: right;\n",
       "    }\n",
       "</style>\n",
       "<table border=\"1\" class=\"dataframe\">\n",
       "  <thead>\n",
       "    <tr style=\"text-align: right;\">\n",
       "      <th></th>\n",
       "      <th>idx</th>\n",
       "      <th>line</th>\n",
       "      <th>bar</th>\n",
       "      <th>mdur</th>\n",
       "      <th>bdur</th>\n",
       "      <th>beat</th>\n",
       "      <th>abs</th>\n",
       "      <th>1b40</th>\n",
       "      <th>1attk</th>\n",
       "      <th>1last</th>\n",
       "      <th>...</th>\n",
       "      <th>2last</th>\n",
       "      <th>2next</th>\n",
       "      <th>3b40</th>\n",
       "      <th>3attk</th>\n",
       "      <th>3last</th>\n",
       "      <th>3next</th>\n",
       "      <th>4b40</th>\n",
       "      <th>4attk</th>\n",
       "      <th>4last</th>\n",
       "      <th>4next</th>\n",
       "    </tr>\n",
       "  </thead>\n",
       "  <tbody>\n",
       "    <tr>\n",
       "      <th>0</th>\n",
       "      <td>0</td>\n",
       "      <td>2000</td>\n",
       "      <td>3000</td>\n",
       "      <td>3100</td>\n",
       "      <td>3200</td>\n",
       "      <td>4000</td>\n",
       "      <td>5000</td>\n",
       "      <td>1040</td>\n",
       "      <td>7100</td>\n",
       "      <td>7200</td>\n",
       "      <td>...</td>\n",
       "      <td>7200</td>\n",
       "      <td>7300</td>\n",
       "      <td>1040</td>\n",
       "      <td>7100</td>\n",
       "      <td>7200</td>\n",
       "      <td>7300</td>\n",
       "      <td>1040</td>\n",
       "      <td>7100</td>\n",
       "      <td>7200</td>\n",
       "      <td>7300</td>\n",
       "    </tr>\n",
       "    <tr>\n",
       "      <th>1</th>\n",
       "      <td>1</td>\n",
       "      <td>19</td>\n",
       "      <td>1</td>\n",
       "      <td>8</td>\n",
       "      <td>4</td>\n",
       "      <td>0</td>\n",
       "      <td>0</td>\n",
       "      <td>145</td>\n",
       "      <td>1</td>\n",
       "      <td>-1</td>\n",
       "      <td>...</td>\n",
       "      <td>-1</td>\n",
       "      <td>2</td>\n",
       "      <td>168</td>\n",
       "      <td>1</td>\n",
       "      <td>-1</td>\n",
       "      <td>2</td>\n",
       "      <td>185</td>\n",
       "      <td>1</td>\n",
       "      <td>-1</td>\n",
       "      <td>2</td>\n",
       "    </tr>\n",
       "    <tr>\n",
       "      <th>2</th>\n",
       "      <td>2</td>\n",
       "      <td>20</td>\n",
       "      <td>1</td>\n",
       "      <td>8</td>\n",
       "      <td>4</td>\n",
       "      <td>4</td>\n",
       "      <td>4</td>\n",
       "      <td>145</td>\n",
       "      <td>2</td>\n",
       "      <td>1</td>\n",
       "      <td>...</td>\n",
       "      <td>1</td>\n",
       "      <td>3</td>\n",
       "      <td>168</td>\n",
       "      <td>2</td>\n",
       "      <td>1</td>\n",
       "      <td>3</td>\n",
       "      <td>185</td>\n",
       "      <td>2</td>\n",
       "      <td>1</td>\n",
       "      <td>3</td>\n",
       "    </tr>\n",
       "    <tr>\n",
       "      <th>3</th>\n",
       "      <td>3</td>\n",
       "      <td>22</td>\n",
       "      <td>2</td>\n",
       "      <td>8</td>\n",
       "      <td>4</td>\n",
       "      <td>0</td>\n",
       "      <td>8</td>\n",
       "      <td>128</td>\n",
       "      <td>3</td>\n",
       "      <td>2</td>\n",
       "      <td>...</td>\n",
       "      <td>2</td>\n",
       "      <td>4</td>\n",
       "      <td>168</td>\n",
       "      <td>3</td>\n",
       "      <td>2</td>\n",
       "      <td>4</td>\n",
       "      <td>191</td>\n",
       "      <td>3</td>\n",
       "      <td>2</td>\n",
       "      <td>4</td>\n",
       "    </tr>\n",
       "    <tr>\n",
       "      <th>4</th>\n",
       "      <td>4</td>\n",
       "      <td>23</td>\n",
       "      <td>2</td>\n",
       "      <td>8</td>\n",
       "      <td>4</td>\n",
       "      <td>4</td>\n",
       "      <td>12</td>\n",
       "      <td>145</td>\n",
       "      <td>4</td>\n",
       "      <td>3</td>\n",
       "      <td>...</td>\n",
       "      <td>3</td>\n",
       "      <td>6</td>\n",
       "      <td>0</td>\n",
       "      <td>4</td>\n",
       "      <td>3</td>\n",
       "      <td>5</td>\n",
       "      <td>197</td>\n",
       "      <td>4</td>\n",
       "      <td>3</td>\n",
       "      <td>6</td>\n",
       "    </tr>\n",
       "  </tbody>\n",
       "</table>\n",
       "<p>5 rows × 23 columns</p>\n",
       "</div>"
      ],
      "text/plain": [
       "   idx  line   bar  mdur  bdur  beat   abs  1b40  1attk  1last  ...  2last  \\\n",
       "0    0  2000  3000  3100  3200  4000  5000  1040   7100   7200  ...   7200   \n",
       "1    1    19     1     8     4     0     0   145      1     -1  ...     -1   \n",
       "2    2    20     1     8     4     4     4   145      2      1  ...      1   \n",
       "3    3    22     2     8     4     0     8   128      3      2  ...      2   \n",
       "4    4    23     2     8     4     4    12   145      4      3  ...      3   \n",
       "\n",
       "   2next  3b40  3attk  3last  3next  4b40  4attk  4last  4next  \n",
       "0   7300  1040   7100   7200   7300  1040   7100   7200   7300  \n",
       "1      2   168      1     -1      2   185      1     -1      2  \n",
       "2      3   168      2      1      3   185      2      1      3  \n",
       "3      4   168      3      2      4   191      3      2      4  \n",
       "4      6     0      4      3      5   197      4      3      6  \n",
       "\n",
       "[5 rows x 23 columns]"
      ]
     },
     "execution_count": 2,
     "metadata": {},
     "output_type": "execute_result"
    }
   ],
   "source": [
    "df = pd.read_csv(\"ex3.csv\")\n",
    "df.head()"
   ]
  },
  {
   "cell_type": "markdown",
   "metadata": {},
   "source": [
    "### Goal: count how many whole notes there are, per voice"
   ]
  },
  {
   "cell_type": "markdown",
   "metadata": {},
   "source": [
    "First: create a list with the abs location of each note per voice (ignoring difference between rests and voices)"
   ]
  },
  {
   "cell_type": "code",
   "execution_count": 3,
   "metadata": {},
   "outputs": [],
   "source": [
    "num_voices = 4\n",
    "voices = []\n",
    "for n in range(1,num_voices+1):\n",
    "    voices.append(str(n)+'b40')"
   ]
  },
  {
   "cell_type": "code",
   "execution_count": 17,
   "metadata": {},
   "outputs": [],
   "source": [
    "rhythm_cols = ['beat', 'abs']+voices\n",
    "rhythm_data = df[rhythm_cols]"
   ]
  },
  {
   "cell_type": "code",
   "execution_count": 18,
   "metadata": {},
   "outputs": [],
   "source": [
    "rhythm_beat = []\n",
    "rhythm_abs = []\n",
    "for v in range(num_voices):\n",
    "    notes = []\n",
    "    beats = []\n",
    "    for i in rhythm_data.index:\n",
    "        if rhythm_data[voices[v]].iloc[i] >= 0:\n",
    "            next_note = rhythm_data.iloc[i]['abs']\n",
    "            next_beat = rhythm_data.iloc[i]['beat']\n",
    "            notes.append(next_note)\n",
    "            beats.append(next_beat)\n",
    "    rhythm_abs.append(notes)\n",
    "    rhythm_beat.append(beats)\n",
    "    rhythm_abs[v], rhythm_beat[v] = rhythm_abs[v][1:], rhythm_beat[v][1:]    "
   ]
  },
  {
   "cell_type": "code",
   "execution_count": 19,
   "metadata": {},
   "outputs": [],
   "source": [
    "rhythm_durs = []\n",
    "for v in range(num_voices):\n",
    "    durs = [rhythm_abs[v][i+1] - rhythm_abs[v][i] for i in range(len(rhythm_abs[v])-1)]\n",
    "    durs.append(0)\n",
    "    rhythm_durs.append(durs)"
   ]
  },
  {
   "cell_type": "code",
   "execution_count": 120,
   "metadata": {},
   "outputs": [
    {
     "data": {
      "text/html": [
       "<div>\n",
       "<style scoped>\n",
       "    .dataframe tbody tr th:only-of-type {\n",
       "        vertical-align: middle;\n",
       "    }\n",
       "\n",
       "    .dataframe tbody tr th {\n",
       "        vertical-align: top;\n",
       "    }\n",
       "\n",
       "    .dataframe thead th {\n",
       "        text-align: right;\n",
       "    }\n",
       "</style>\n",
       "<table border=\"1\" class=\"dataframe\">\n",
       "  <thead>\n",
       "    <tr style=\"text-align: right;\">\n",
       "      <th>0abs</th>\n",
       "      <th>0</th>\n",
       "      <th>4</th>\n",
       "      <th>8</th>\n",
       "      <th>12</th>\n",
       "      <th>16</th>\n",
       "      <th>20</th>\n",
       "      <th>24</th>\n",
       "      <th>28</th>\n",
       "      <th>32</th>\n",
       "      <th>38</th>\n",
       "      <th>...</th>\n",
       "      <th>256</th>\n",
       "      <th>264</th>\n",
       "      <th>268</th>\n",
       "      <th>276</th>\n",
       "      <th>280</th>\n",
       "      <th>288</th>\n",
       "      <th>292</th>\n",
       "      <th>296</th>\n",
       "      <th>304</th>\n",
       "      <th>316</th>\n",
       "    </tr>\n",
       "  </thead>\n",
       "  <tbody>\n",
       "    <tr>\n",
       "      <th>0beat</th>\n",
       "      <td>0</td>\n",
       "      <td>4</td>\n",
       "      <td>0</td>\n",
       "      <td>4</td>\n",
       "      <td>0</td>\n",
       "      <td>4</td>\n",
       "      <td>0</td>\n",
       "      <td>4</td>\n",
       "      <td>0</td>\n",
       "      <td>6</td>\n",
       "      <td>...</td>\n",
       "      <td>0</td>\n",
       "      <td>8</td>\n",
       "      <td>0</td>\n",
       "      <td>8</td>\n",
       "      <td>0</td>\n",
       "      <td>8</td>\n",
       "      <td>0</td>\n",
       "      <td>4</td>\n",
       "      <td>0</td>\n",
       "      <td>0</td>\n",
       "    </tr>\n",
       "    <tr>\n",
       "      <th>0durs</th>\n",
       "      <td>4</td>\n",
       "      <td>4</td>\n",
       "      <td>4</td>\n",
       "      <td>4</td>\n",
       "      <td>4</td>\n",
       "      <td>4</td>\n",
       "      <td>4</td>\n",
       "      <td>4</td>\n",
       "      <td>6</td>\n",
       "      <td>2</td>\n",
       "      <td>...</td>\n",
       "      <td>8</td>\n",
       "      <td>4</td>\n",
       "      <td>8</td>\n",
       "      <td>4</td>\n",
       "      <td>8</td>\n",
       "      <td>4</td>\n",
       "      <td>4</td>\n",
       "      <td>8</td>\n",
       "      <td>12</td>\n",
       "      <td>0</td>\n",
       "    </tr>\n",
       "  </tbody>\n",
       "</table>\n",
       "<p>2 rows × 73 columns</p>\n",
       "</div>"
      ],
      "text/plain": [
       "0abs   0    4    8    12   16   20   24   28   32   38   ...  256  264  268  \\\n",
       "0beat    0    4    0    4    0    4    0    4    0    6  ...    0    8    0   \n",
       "0durs    4    4    4    4    4    4    4    4    6    2  ...    8    4    8   \n",
       "\n",
       "0abs   276  280  288  292  296  304  316  \n",
       "0beat    8    0    8    0    4    0    0  \n",
       "0durs    4    8    4    4    8   12    0  \n",
       "\n",
       "[2 rows x 73 columns]"
      ]
     },
     "execution_count": 120,
     "metadata": {},
     "output_type": "execute_result"
    }
   ],
   "source": [
    "rhythm_df = []\n",
    "for v in range(num_voices):\n",
    "    rhythm_df.append(pd.DataFrame({\n",
    "        str(v)+'beat' : rhythm_beat[v], \n",
    "        str(v)+'abs' : rhythm_abs[v], \n",
    "        str(v)+'durs' : rhythm_durs[v]\n",
    "    }))\n",
    "  \n",
    "new_df = rhythm_df[0].transpose()\n",
    "new_df.columns = (new_df.loc['0abs'])\n",
    "new_df = new_df.drop('0abs')\n",
    "new_df"
   ]
  },
  {
   "cell_type": "code",
   "execution_count": 194,
   "metadata": {},
   "outputs": [
    {
     "data": {
      "text/html": [
       "<div>\n",
       "<style scoped>\n",
       "    .dataframe tbody tr th:only-of-type {\n",
       "        vertical-align: middle;\n",
       "    }\n",
       "\n",
       "    .dataframe tbody tr th {\n",
       "        vertical-align: top;\n",
       "    }\n",
       "\n",
       "    .dataframe thead th {\n",
       "        text-align: right;\n",
       "    }\n",
       "</style>\n",
       "<table border=\"1\" class=\"dataframe\">\n",
       "  <thead>\n",
       "    <tr style=\"text-align: right;\">\n",
       "      <th></th>\n",
       "      <th>0</th>\n",
       "      <th>1</th>\n",
       "      <th>2</th>\n",
       "      <th>3</th>\n",
       "      <th>4</th>\n",
       "      <th>6</th>\n",
       "      <th>8</th>\n",
       "      <th>12</th>\n",
       "    </tr>\n",
       "  </thead>\n",
       "  <tbody>\n",
       "    <tr>\n",
       "      <th>Voice0</th>\n",
       "      <td>1</td>\n",
       "      <td>0</td>\n",
       "      <td>15</td>\n",
       "      <td>0</td>\n",
       "      <td>42</td>\n",
       "      <td>3</td>\n",
       "      <td>11</td>\n",
       "      <td>1</td>\n",
       "    </tr>\n",
       "    <tr>\n",
       "      <th>Voice1</th>\n",
       "      <td>1</td>\n",
       "      <td>5</td>\n",
       "      <td>12</td>\n",
       "      <td>3</td>\n",
       "      <td>41</td>\n",
       "      <td>5</td>\n",
       "      <td>9</td>\n",
       "      <td>1</td>\n",
       "    </tr>\n",
       "    <tr>\n",
       "      <th>Voice2</th>\n",
       "      <td>1</td>\n",
       "      <td>0</td>\n",
       "      <td>15</td>\n",
       "      <td>0</td>\n",
       "      <td>42</td>\n",
       "      <td>3</td>\n",
       "      <td>11</td>\n",
       "      <td>1</td>\n",
       "    </tr>\n",
       "    <tr>\n",
       "      <th>Voice3</th>\n",
       "      <td>1</td>\n",
       "      <td>4</td>\n",
       "      <td>14</td>\n",
       "      <td>2</td>\n",
       "      <td>41</td>\n",
       "      <td>5</td>\n",
       "      <td>9</td>\n",
       "      <td>1</td>\n",
       "    </tr>\n",
       "  </tbody>\n",
       "</table>\n",
       "</div>"
      ],
      "text/plain": [
       "        0   1   2   3   4   6   8   12\n",
       "Voice0   1   0  15   0  42   3  11   1\n",
       "Voice1   1   5  12   3  41   5   9   1\n",
       "Voice2   1   0  15   0  42   3  11   1\n",
       "Voice3   1   4  14   2  41   5   9   1"
      ]
     },
     "execution_count": 194,
     "metadata": {},
     "output_type": "execute_result"
    }
   ],
   "source": [
    "rhythm_counts = []\n",
    "rhythm_options = set()\n",
    "for v in range(num_voices):\n",
    "    rhythm_counts.append(rhythm_df[v][str(v)+'durs'].value_counts())\n",
    "    rhythm_options = rhythm_options.union(set(rhythm_counts[v].index))\n",
    "\n",
    "rhythm_counts_df = pd.DataFrame(\n",
    "    {'Voice'+str(v) : rhythm_counts[v] for v in range(num_voices)}, \n",
    "    index=rhythm_options)\n",
    "rhythm_counts_df.fillna(0, inplace=True) # replace NaN with 0\n",
    "rhythm_counts_df = rhythm_counts_df.astype(int) # turn everything back into int64\n",
    "\n",
    "rhythm_counts_df = rhythm_counts_df.transpose()\n",
    "rhythm_counts_df"
   ]
  },
  {
   "cell_type": "code",
   "execution_count": 132,
   "metadata": {},
   "outputs": [
    {
     "data": {
      "text/plain": [
       "<matplotlib.axes._subplots.AxesSubplot at 0x7ff26002f630>"
      ]
     },
     "execution_count": 132,
     "metadata": {},
     "output_type": "execute_result"
    },
    {
     "data": {
      "image/png": "[encoded data removed]",
      "text/plain": [
       "<Figure size 432x288 with 1 Axes>"
      ]
     },
     "metadata": {
      "needs_background": "light"
     },
     "output_type": "display_data"
    }
   ],
   "source": [
    "rhythm_counts_df.transpose().plot(kind='bar',title='Note distribution', y=['Voice0', 'Voice1'])"
   ]
  },
  {
   "cell_type": "code",
   "execution_count": 153,
   "metadata": {},
   "outputs": [
    {
     "data": {
      "text/plain": [
       "<matplotlib.axes._subplots.AxesSubplot at 0x7ff25fde5080>"
      ]
     },
     "execution_count": 153,
     "metadata": {},
     "output_type": "execute_result"
    },
    {
     "data": {
      "image/png": "[encoded data removed]",
      "text/plain": [
       "<Figure size 432x288 with 1 Axes>"
      ]
     },
     "metadata": {
      "needs_background": "light"
     },
     "output_type": "display_data"
    }
   ],
   "source": [
    "total_counts = pd.Series(\n",
    "    [sum(rhythm_counts_df[l]) for l in rhythm_counts_df.columns],\n",
    "    name=\"total\", index = rhythm_counts_df.columns)\n",
    "total_counts.plot(kind='bar')"
   ]
  },
  {
   "cell_type": "code",
   "execution_count": 177,
   "metadata": {},
   "outputs": [
    {
     "data": {
      "text/html": [
       "<div>\n",
       "<style scoped>\n",
       "    .dataframe tbody tr th:only-of-type {\n",
       "        vertical-align: middle;\n",
       "    }\n",
       "\n",
       "    .dataframe tbody tr th {\n",
       "        vertical-align: top;\n",
       "    }\n",
       "\n",
       "    .dataframe thead th {\n",
       "        text-align: right;\n",
       "    }\n",
       "</style>\n",
       "<table border=\"1\" class=\"dataframe\">\n",
       "  <thead>\n",
       "    <tr style=\"text-align: right;\">\n",
       "      <th></th>\n",
       "      <th>0</th>\n",
       "      <th>1</th>\n",
       "      <th>2</th>\n",
       "      <th>3</th>\n",
       "      <th>4</th>\n",
       "      <th>6</th>\n",
       "      <th>8</th>\n",
       "      <th>12</th>\n",
       "    </tr>\n",
       "  </thead>\n",
       "  <tbody>\n",
       "    <tr>\n",
       "      <th>Voice0</th>\n",
       "      <td>1</td>\n",
       "      <td>0</td>\n",
       "      <td>15</td>\n",
       "      <td>0</td>\n",
       "      <td>42</td>\n",
       "      <td>3</td>\n",
       "      <td>11</td>\n",
       "      <td>1</td>\n",
       "    </tr>\n",
       "    <tr>\n",
       "      <th>Voice1</th>\n",
       "      <td>1</td>\n",
       "      <td>5</td>\n",
       "      <td>12</td>\n",
       "      <td>3</td>\n",
       "      <td>41</td>\n",
       "      <td>5</td>\n",
       "      <td>9</td>\n",
       "      <td>1</td>\n",
       "    </tr>\n",
       "    <tr>\n",
       "      <th>Voice2</th>\n",
       "      <td>1</td>\n",
       "      <td>0</td>\n",
       "      <td>15</td>\n",
       "      <td>0</td>\n",
       "      <td>42</td>\n",
       "      <td>3</td>\n",
       "      <td>11</td>\n",
       "      <td>1</td>\n",
       "    </tr>\n",
       "    <tr>\n",
       "      <th>Voice3</th>\n",
       "      <td>1</td>\n",
       "      <td>4</td>\n",
       "      <td>14</td>\n",
       "      <td>2</td>\n",
       "      <td>41</td>\n",
       "      <td>5</td>\n",
       "      <td>9</td>\n",
       "      <td>1</td>\n",
       "    </tr>\n",
       "    <tr>\n",
       "      <th>total</th>\n",
       "      <td>4</td>\n",
       "      <td>9</td>\n",
       "      <td>56</td>\n",
       "      <td>5</td>\n",
       "      <td>166</td>\n",
       "      <td>16</td>\n",
       "      <td>40</td>\n",
       "      <td>4</td>\n",
       "    </tr>\n",
       "  </tbody>\n",
       "</table>\n",
       "</div>"
      ],
      "text/plain": [
       "        0   1   2   3    4   6   8   12\n",
       "Voice0   1   0  15   0   42   3  11   1\n",
       "Voice1   1   5  12   3   41   5   9   1\n",
       "Voice2   1   0  15   0   42   3  11   1\n",
       "Voice3   1   4  14   2   41   5   9   1\n",
       "total    4   9  56   5  166  16  40   4"
      ]
     },
     "execution_count": 177,
     "metadata": {},
     "output_type": "execute_result"
    }
   ],
   "source": [
    "rhythm_counts_df_t = rhythm_counts_df.append(total_counts)\n",
    "rhythm_counts_df_t"
   ]
  },
  {
   "cell_type": "code",
   "execution_count": 204,
   "metadata": {},
   "outputs": [
    {
     "data": {
      "image/png": "[encoded data removed]",
      "text/plain": [
       "<Figure size 432x288 with 1 Axes>"
      ]
     },
     "metadata": {
      "needs_background": "light"
     },
     "output_type": "display_data"
    }
   ],
   "source": [
    "total_notes = pd.Series(\n",
    "    [sum(rhythm_counts_df.loc[v]) for v in rhythm_counts_df.index],\n",
    "    name='total notes', index = rhythm_counts_df.index)\n",
    "total_notes.plot(kind='bar', ylim = (70,80))\n",
    "\n",
    "total_notes_t = pd.Series(\n",
    "    [sum(rhythm_counts_df_t.loc[v]) for v in rhythm_counts_df_t.index],\n",
    "    name='total notes', index = rhythm_counts_df_t.index)"
   ]
  },
  {
   "cell_type": "code",
   "execution_count": 207,
   "metadata": {},
   "outputs": [
    {
     "data": {
      "text/plain": [
       "<matplotlib.axes._subplots.AxesSubplot at 0x7ff25ea0ee10>"
      ]
     },
     "execution_count": 207,
     "metadata": {},
     "output_type": "execute_result"
    },
    {
     "data": {
      "image/png": "[encoded data removed]",
      "text/plain": [
       "<Figure size 432x288 with 1 Axes>"
      ]
     },
     "metadata": {
      "needs_background": "light"
     },
     "output_type": "display_data"
    }
   ],
   "source": [
    "rhythm_counts_rel = rhythm_counts_df_t.astype(float).div(total_notes,axis=0)\n",
    "rhythm_counts_rel.transpose().plot(\n",
    "    kind='bar', \n",
    "    # y = list(set(rhythm_counts_rel.index) - {'total'}),\n",
    "    title = 'Proportion of Notes of Each Length',\n",
    "    # logy=True\n",
    ")"
   ]
  }
 ],
 "metadata": {
  "kernelspec": {
   "display_name": "Python 3",
   "language": "python",
   "name": "python3"
  },
  "language_info": {
   "codemirror_mode": {
    "name": "ipython",
    "version": 3
   },
   "file_extension": ".py",
   "mimetype": "text/x-python",
   "name": "python",
   "nbconvert_exporter": "python",
   "pygments_lexer": "ipython3",
   "version": "3.6.9"
  }
 },
 "nbformat": 4,
 "nbformat_minor": 4
}
